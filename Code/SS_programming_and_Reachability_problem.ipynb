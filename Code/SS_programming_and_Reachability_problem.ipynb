{
 "cells": [
  {
   "cell_type": "code",
   "execution_count": 122,
   "metadata": {},
   "outputs": [],
   "source": [
    "import numpy as np\n",
    "import pandas as pd\n",
    "import pickle\n",
    "import matplotlib.pyplot as plt\n",
    "import seaborn as sn"
   ]
  },
  {
   "cell_type": "code",
   "execution_count": 162,
   "metadata": {},
   "outputs": [],
   "source": [
    "koopModel = pickle.load(open('combinatorial_promoters/combinatorial_promoters_deepDMD_model.pickle','rb'))"
   ]
  },
  {
   "cell_type": "code",
   "execution_count": 163,
   "metadata": {},
   "outputs": [],
   "source": [
    "Kx = koopModel['Kx'].T\n",
    "Ku = koopModel['Ku'].T"
   ]
  },
  {
   "cell_type": "code",
   "execution_count": 164,
   "metadata": {},
   "outputs": [
    {
     "name": "stdout",
     "output_type": "stream",
     "text": [
      "(41, 41)\n",
      "(41, 7)\n"
     ]
    }
   ],
   "source": [
    "print(Kx.shape)\n",
    "print(Ku.shape)"
   ]
  },
  {
   "cell_type": "markdown",
   "metadata": {},
   "source": [
    "# Steady State programming"
   ]
  },
  {
   "cell_type": "code",
   "execution_count": 188,
   "metadata": {},
   "outputs": [
    {
     "data": {
      "text/plain": [
       "array([[0., 1., 0., 0., 0., 0., 0., 0., 0., 0., 0., 0., 0., 0., 0., 0.,\n",
       "        0., 0., 0., 0., 0., 0., 0., 0., 0., 0., 0., 0., 0., 0., 0., 0.,\n",
       "        0., 0., 0., 0., 0., 0., 0., 0., 0.]])"
      ]
     },
     "execution_count": 188,
     "metadata": {},
     "output_type": "execute_result"
    }
   ],
   "source": [
    "maxState = 1\n",
    "P = 0.0*np.zeros(shape=(1,Kx.shape[0]))\n",
    "P[0,maxState] = 1.0; \n",
    "P"
   ]
  },
  {
   "cell_type": "markdown",
   "metadata": {},
   "source": [
    "## convex optimization solver"
   ]
  },
  {
   "cell_type": "code",
   "execution_count": 189,
   "metadata": {},
   "outputs": [
    {
     "name": "stdout",
     "output_type": "stream",
     "text": [
      "-----------------------------------------------------------------\n",
      "           OSQP v0.5.0  -  Operator Splitting QP Solver\n",
      "              (c) Bartolomeo Stellato,  Goran Banjac\n",
      "        University of Oxford  -  Stanford University 2018\n",
      "-----------------------------------------------------------------\n",
      "problem:  variables n = 7, constraints m = 14\n",
      "          nnz(P) + nnz(A) = 14\n",
      "settings: linear system solver = qdldl,\n",
      "          eps_abs = 1.0e-05, eps_rel = 1.0e-05,\n",
      "          eps_prim_inf = 1.0e-04, eps_dual_inf = 1.0e-04,\n",
      "          rho = 1.00e-01 (adaptive),\n",
      "          sigma = 1.00e-06, alpha = 1.60, max_iter = 10000\n",
      "          check_termination: on (interval 25),\n",
      "          scaling: on, scaled_termination: off\n",
      "          warm start: on, polish: on\n",
      "\n",
      "iter   objective    pri res    dua res    rho        time\n",
      "   1  -2.9159e+03   8.00e+00   1.04e+02   1.00e-01   5.41e-05s\n",
      " 100  -3.2367e+03   1.08e-06   1.31e-05   1.94e-02   4.44e-05s\n",
      "plsh  -3.2367e+03   1.00e-30   5.67e-14   --------   1.17e-04s\n",
      "\n",
      "status:               solved\n",
      "solution polish:      successful\n",
      "number of iterations: 100\n",
      "optimal objective:    -3236.6669\n",
      "run time:             1.17e-04s\n",
      "optimal rho estimate: 1.78e-02\n",
      "\n",
      "optimal\n",
      "Optimal input: array([[ 0.],\n",
      "       [25.],\n",
      "       [ 0.],\n",
      "       [ 0.],\n",
      "       [ 0.],\n",
      "       [25.],\n",
      "       [ 0.]])\n",
      "Objective value: -3236.6669385443056\n",
      "Optimal Px value: 3236.6669385443056\n"
     ]
    }
   ],
   "source": [
    "from cvxpy import Minimize\n",
    "from cvxpy import Minimize, Problem, Variable,norm1,installed_solvers,lambda_max;\n",
    "from cvxpy import norm as cvxpynorm;\n",
    "import cvxpy\n",
    "\n",
    "\n",
    "optimal_u = Variable(shape=(Ku.shape[1],1))\n",
    "\n",
    "optimal_Px = P*(np.matmul(np.linalg.inv(np.eye(Kx.shape[0]) - Kx),Ku)*optimal_u);\n",
    "objective = Minimize(-P *(np.matmul(np.linalg.inv(np.eye(Kx.shape[0]) - Kx),Ku)*optimal_u))\n",
    "constraints =[optimal_u>=0 ,25>=optimal_u]\n",
    "prob = Problem(objective, constraints)\n",
    "result = prob.solve(verbose=True)#(solver=solver_instance);\n",
    "print(prob.status);\n",
    "\n",
    "optimal_u_val = optimal_u.value ;\n",
    "optimal_u_val[np.abs(optimal_u_val)<1e-5] = 0;\n",
    "print(\"Optimal input: \" + repr(optimal_u_val))\n",
    "print(\"Objective value: \" +repr(objective.value))\n",
    "print(\"Optimal Px value: \" + repr(optimal_Px.value[0][0]))"
   ]
  },
  {
   "cell_type": "markdown",
   "metadata": {},
   "source": [
    "## constrained nonlinear optimization"
   ]
  },
  {
   "cell_type": "code",
   "execution_count": 190,
   "metadata": {},
   "outputs": [],
   "source": [
    "testMat = np.dot(np.eye(Kx.shape[0]) - Kx, Ku)"
   ]
  },
  {
   "cell_type": "code",
   "execution_count": 191,
   "metadata": {},
   "outputs": [
    {
     "data": {
      "text/plain": [
       "array([2.60972869])"
      ]
     },
     "execution_count": 191,
     "metadata": {},
     "output_type": "execute_result"
    }
   ],
   "source": [
    "np.dot(np.dot(P,testMat),x0)"
   ]
  },
  {
   "cell_type": "code",
   "execution_count": 194,
   "metadata": {},
   "outputs": [
    {
     "data": {
      "text/plain": [
       "1"
      ]
     },
     "execution_count": 194,
     "metadata": {},
     "output_type": "execute_result"
    }
   ],
   "source": [
    "maxState"
   ]
  },
  {
   "cell_type": "code",
   "execution_count": 193,
   "metadata": {},
   "outputs": [
    {
     "name": "stdout",
     "output_type": "stream",
     "text": [
      "Initial objective: [-0.16659878]\n",
      "Final objective: [-0.67794287]\n",
      "     fun: -0.6779428692982848\n",
      "     jac: array([-0.11355195,  0.1515477 ,  0.07920132, -0.23260432, -0.12513237,\n",
      "        0.15765423, -0.21053827])\n",
      " message: 'Optimization terminated successfully.'\n",
      "    nfev: 54\n",
      "     nit: 6\n",
      "    njev: 6\n",
      "  status: 0\n",
      " success: True\n",
      "       x: array([1.  , 0.01, 0.01, 1.  , 1.  , 0.01, 1.  ])\n",
      "Solution\n",
      "u = [1.   0.01 0.01 1.   1.   0.01 1.  ]\n"
     ]
    }
   ],
   "source": [
    "from scipy.optimize import minimize\n",
    "\n",
    "uMin = 0.01\n",
    "uMax = 1.0\n",
    "\n",
    "def objective(x):\n",
    "    return -np.dot(np.dot(P, np.dot(np.eye(Kx.shape[0]) - Kx, Ku)), x)\n",
    "\n",
    "# initial guesses\n",
    "n = Ku.shape[1]\n",
    "x0 = np.random.uniform(uMax/2,uMax,n)\n",
    "\n",
    "# show initial objective\n",
    "print('Initial objective: ' + str(objective(x0)))\n",
    "\n",
    "# optimize\n",
    "b = (uMin,uMax)\n",
    "bnds = (b,)*n\n",
    "# con1 = {'type': 'ineq', 'fun': constraint1} \n",
    "# con2 = {'type': 'eq', 'fun': constraint2}\n",
    "# cons = ([con1,con2])\n",
    "solution = minimize(objective,x0,method='SLSQP',bounds=bnds)\n",
    "x = solution.x\n",
    "\n",
    "# show final objective\n",
    "print('Final objective: ' + str(objective(x)))\n",
    "\n",
    "print(solution)\n",
    "print('Solution')\n",
    "print('u = ' + str(x))"
   ]
  },
  {
   "cell_type": "markdown",
   "metadata": {},
   "source": [
    "# Reachability problem \n"
   ]
  },
  {
   "cell_type": "code",
   "execution_count": null,
   "metadata": {},
   "outputs": [],
   "source": []
  }
 ],
 "metadata": {
  "kernelspec": {
   "display_name": "Python 3",
   "language": "python",
   "name": "python3"
  },
  "language_info": {
   "codemirror_mode": {
    "name": "ipython",
    "version": 3
   },
   "file_extension": ".py",
   "mimetype": "text/x-python",
   "name": "python",
   "nbconvert_exporter": "python",
   "pygments_lexer": "ipython3",
   "version": "3.7.3"
  }
 },
 "nbformat": 4,
 "nbformat_minor": 2
}
